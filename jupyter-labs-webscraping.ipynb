{
 "cells": [
  {
   "cell_type": "markdown",
   "metadata": {},
   "source": [
    "<p style=\"text-align:center\">\n",
    "    <a href=\"https://skills.network\" target=\"_blank\">\n",
    "    <img src=\"https://cf-courses-data.s3.us.cloud-object-storage.appdomain.cloud/assets/logos/SN_web_lightmode.png\" width=\"200\" alt=\"Skills Network Logo\">\n",
    "    </a>\n",
    "</p>\n"
   ]
  },
  {
   "cell_type": "markdown",
   "metadata": {},
   "source": [
    "# **Space X  Falcon 9 First Stage Landing Prediction**\n"
   ]
  },
  {
   "cell_type": "markdown",
   "metadata": {},
   "source": [
    "## Web scraping Falcon 9 and Falcon Heavy Launches Records from Wikipedia\n"
   ]
  },
  {
   "cell_type": "markdown",
   "metadata": {},
   "source": [
    "Estimated time needed: **40** minutes\n"
   ]
  },
  {
   "cell_type": "markdown",
   "metadata": {},
   "source": [
    "In this lab, you will be performing web scraping to collect Falcon 9 historical launch records from a Wikipedia page titled `List of Falcon 9 and Falcon Heavy launches`\n",
    "\n",
    "https://en.wikipedia.org/wiki/List_of_Falcon_9_and_Falcon_Heavy_launches\n"
   ]
  },
  {
   "cell_type": "markdown",
   "metadata": {},
   "source": [
    "![](https://cf-courses-data.s3.us.cloud-object-storage.appdomain.cloud/IBM-DS0321EN-SkillsNetwork/labs/module_1_L2/images/Falcon9_rocket_family.svg)\n"
   ]
  },
  {
   "cell_type": "markdown",
   "metadata": {},
   "source": [
    "Falcon 9 first stage will land successfully\n"
   ]
  },
  {
   "cell_type": "markdown",
   "metadata": {},
   "source": [
    "![](https://cf-courses-data.s3.us.cloud-object-storage.appdomain.cloud/IBMDeveloperSkillsNetwork-DS0701EN-SkillsNetwork/api/Images/landing_1.gif)\n"
   ]
  },
  {
   "cell_type": "markdown",
   "metadata": {},
   "source": [
    "Several examples of an unsuccessful landing are shown here:\n"
   ]
  },
  {
   "cell_type": "markdown",
   "metadata": {},
   "source": [
    "![](https://cf-courses-data.s3.us.cloud-object-storage.appdomain.cloud/IBMDeveloperSkillsNetwork-DS0701EN-SkillsNetwork/api/Images/crash.gif)\n"
   ]
  },
  {
   "cell_type": "markdown",
   "metadata": {},
   "source": [
    "More specifically, the launch records are stored in a HTML table shown below:\n"
   ]
  },
  {
   "cell_type": "markdown",
   "metadata": {},
   "source": [
    "![](https://cf-courses-data.s3.us.cloud-object-storage.appdomain.cloud/IBM-DS0321EN-SkillsNetwork/labs/module_1_L2/images/falcon9-launches-wiki.png)\n"
   ]
  },
  {
   "cell_type": "markdown",
   "metadata": {},
   "source": [
    "  ## Objectives\n",
    "Web scrap Falcon 9 launch records with `BeautifulSoup`: \n",
    "- Extract a Falcon 9 launch records HTML table from Wikipedia\n",
    "- Parse the table and convert it into a Pandas data frame\n"
   ]
  },
  {
   "cell_type": "markdown",
   "metadata": {},
   "source": [
    "First let's import required packages for this lab\n"
   ]
  },
  {
   "cell_type": "code",
   "execution_count": 1,
   "metadata": {
    "tags": []
   },
   "outputs": [
    {
     "name": "stdout",
     "output_type": "stream",
     "text": [
      "Requirement already satisfied: beautifulsoup4 in /home/jupyterlab/conda/envs/python/lib/python3.7/site-packages (4.11.1)\n",
      "Requirement already satisfied: soupsieve>1.2 in /home/jupyterlab/conda/envs/python/lib/python3.7/site-packages (from beautifulsoup4) (2.3.2.post1)\n",
      "Requirement already satisfied: requests in /home/jupyterlab/conda/envs/python/lib/python3.7/site-packages (2.29.0)\n",
      "Requirement already satisfied: charset-normalizer<4,>=2 in /home/jupyterlab/conda/envs/python/lib/python3.7/site-packages (from requests) (3.1.0)\n",
      "Requirement already satisfied: idna<4,>=2.5 in /home/jupyterlab/conda/envs/python/lib/python3.7/site-packages (from requests) (3.4)\n",
      "Requirement already satisfied: urllib3<1.27,>=1.21.1 in /home/jupyterlab/conda/envs/python/lib/python3.7/site-packages (from requests) (1.26.15)\n",
      "Requirement already satisfied: certifi>=2017.4.17 in /home/jupyterlab/conda/envs/python/lib/python3.7/site-packages (from requests) (2023.5.7)\n"
     ]
    }
   ],
   "source": [
    "!pip3 install beautifulsoup4\n",
    "!pip3 install requests"
   ]
  },
  {
   "cell_type": "code",
   "execution_count": 2,
   "metadata": {
    "tags": []
   },
   "outputs": [],
   "source": [
    "import sys\n",
    "\n",
    "import requests\n",
    "from bs4 import BeautifulSoup\n",
    "import re\n",
    "import unicodedata\n",
    "import pandas as pd"
   ]
  },
  {
   "cell_type": "markdown",
   "metadata": {},
   "source": [
    "and we will provide some helper functions for you to process web scraped HTML table\n"
   ]
  },
  {
   "cell_type": "code",
   "execution_count": 3,
   "metadata": {
    "tags": []
   },
   "outputs": [],
   "source": [
    "def date_time(table_cells):\n",
    "    \"\"\"\n",
    "    This function returns the data and time from the HTML  table cell\n",
    "    Input: the  element of a table data cell extracts extra row\n",
    "    \"\"\"\n",
    "    return [data_time.strip() for data_time in list(table_cells.strings)][0:2]\n",
    "\n",
    "def booster_version(table_cells):\n",
    "    \"\"\"\n",
    "    This function returns the booster version from the HTML  table cell \n",
    "    Input: the  element of a table data cell extracts extra row\n",
    "    \"\"\"\n",
    "    out=''.join([booster_version for i,booster_version in enumerate( table_cells.strings) if i%2==0][0:-1])\n",
    "    return out\n",
    "\n",
    "def landing_status(table_cells):\n",
    "    \"\"\"\n",
    "    This function returns the landing status from the HTML table cell \n",
    "    Input: the  element of a table data cell extracts extra row\n",
    "    \"\"\"\n",
    "    out=[i for i in table_cells.strings][0]\n",
    "    return out\n",
    "\n",
    "\n",
    "def get_mass(table_cells):\n",
    "    mass=unicodedata.normalize(\"NFKD\", table_cells.text).strip()\n",
    "    if mass:\n",
    "        mass.find(\"kg\")\n",
    "        new_mass=mass[0:mass.find(\"kg\")+2]\n",
    "    else:\n",
    "        new_mass=0\n",
    "    return new_mass\n",
    "\n",
    "\n",
    "def extract_column_from_header(row):\n",
    "    \"\"\"\n",
    "    This function returns the landing status from the HTML table cell \n",
    "    Input: the  element of a table data cell extracts extra row\n",
    "    \"\"\"\n",
    "    if (row.br):\n",
    "        row.br.extract()\n",
    "    if row.a:\n",
    "        row.a.extract()\n",
    "    if row.sup:\n",
    "        row.sup.extract()\n",
    "        \n",
    "    colunm_name = ' '.join(row.contents)\n",
    "    \n",
    "    # Filter the digit and empty names\n",
    "    if not(colunm_name.strip().isdigit()):\n",
    "        colunm_name = colunm_name.strip()\n",
    "        return colunm_name    \n"
   ]
  },
  {
   "cell_type": "markdown",
   "metadata": {},
   "source": [
    "To keep the lab tasks consistent, you will be asked to scrape the data from a snapshot of the  `List of Falcon 9 and Falcon Heavy launches` Wikipage updated on\n",
    "`9th June 2021`\n"
   ]
  },
  {
   "cell_type": "code",
   "execution_count": 4,
   "metadata": {
    "tags": []
   },
   "outputs": [],
   "source": [
    "static_url = \"https://en.wikipedia.org/w/index.php?title=List_of_Falcon_9_and_Falcon_Heavy_launches&oldid=1027686922\""
   ]
  },
  {
   "cell_type": "markdown",
   "metadata": {},
   "source": [
    "Next, request the HTML page from the above URL and get a `response` object\n"
   ]
  },
  {
   "cell_type": "markdown",
   "metadata": {},
   "source": [
    "### TASK 1: Request the Falcon9 Launch Wiki page from its URL\n"
   ]
  },
  {
   "cell_type": "markdown",
   "metadata": {},
   "source": [
    "First, let's perform an HTTP GET method to request the Falcon9 Launch HTML page, as an HTTP response.\n"
   ]
  },
  {
   "cell_type": "code",
   "execution_count": 5,
   "metadata": {
    "tags": []
   },
   "outputs": [],
   "source": [
    "import requests\n",
    "\n",
    "# URL of the Falcon 9 Launch HTML page\n",
    "url = \"https://en.wikipedia.org/wiki/List_of_Falcon_9_and_Falcon_Heavy_launches\"\n",
    "\n",
    "# Perform the GET request and assign the response to Falcon9_response\n",
    "Falcon9_response = requests.get(url)"
   ]
  },
  {
   "cell_type": "markdown",
   "metadata": {},
   "source": [
    "Create a `BeautifulSoup` object from the HTML `response`\n"
   ]
  },
  {
   "cell_type": "code",
   "execution_count": 6,
   "metadata": {
    "tags": []
   },
   "outputs": [
    {
     "name": "stdout",
     "output_type": "stream",
     "text": [
      "List of Falcon 9 and Falcon Heavy launches - Wikipedia\n",
      "BeautifulSoup object created: <class 'bs4.BeautifulSoup'>\n"
     ]
    }
   ],
   "source": [
    "from bs4 import BeautifulSoup\n",
    "\n",
    "# Create a BeautifulSoup object and assign it to soup variable\n",
    "soup = BeautifulSoup(Falcon9_response.text, 'html.parser')\n",
    "\n",
    "# Print the title of the page\n",
    "print(soup.title.string)\n",
    "\n",
    "# Verify that the object was created successfully\n",
    "print(f\"BeautifulSoup object created: {type(soup)}\")\n",
    "\n"
   ]
  },
  {
   "cell_type": "markdown",
   "metadata": {},
   "source": [
    "Print the page title to verify if the `BeautifulSoup` object was created properly \n"
   ]
  },
  {
   "cell_type": "code",
   "execution_count": 7,
   "metadata": {
    "tags": []
   },
   "outputs": [
    {
     "name": "stdout",
     "output_type": "stream",
     "text": [
      "Page title:\n",
      "List of Falcon 9 and Falcon Heavy launches - Wikipedia\n",
      "\n",
      "Type of soup object: <class 'bs4.BeautifulSoup'>\n"
     ]
    }
   ],
   "source": [
    "# Print the page title\n",
    "print(\"Page title:\")\n",
    "print(soup.title.string)\n",
    "\n",
    "# Print the type of the soup object\n",
    "print(f\"\\nType of soup object: {type(soup)}\")\n",
    "\n"
   ]
  },
  {
   "cell_type": "markdown",
   "metadata": {},
   "source": [
    "### TASK 2: Extract all column/variable names from the HTML table header\n"
   ]
  },
  {
   "cell_type": "markdown",
   "metadata": {},
   "source": [
    "Next, we want to collect all relevant column names from the HTML table header\n"
   ]
  },
  {
   "cell_type": "markdown",
   "metadata": {},
   "source": [
    "Let's try to find all tables on the wiki page first. If you need to refresh your memory about `BeautifulSoup`, please check the external reference link towards the end of this lab\n"
   ]
  },
  {
   "cell_type": "code",
   "execution_count": 8,
   "metadata": {
    "tags": []
   },
   "outputs": [
    {
     "name": "stdout",
     "output_type": "stream",
     "text": [
      "Number of tables found: 15\n",
      "Table 1 - Class: ['wikitable', 'plainrowheaders', 'collapsible']\n",
      "Table 2 - Class: ['wikitable', 'plainrowheaders', 'collapsible']\n",
      "Table 3 - Class: ['wikitable']\n",
      "Table 4 - Class: ['wikitable']\n",
      "Table 5 - Class: ['wikitable']\n",
      "Table 6 - Class: ['nowraplinks', 'hlist', 'mw-collapsible', 'autocollapse', 'navbox-inner']\n",
      "Table 7 - Class: ['nowraplinks', 'navbox-subgroup']\n",
      "Table 8 - Class: ['nowraplinks', 'navbox-subgroup']\n",
      "Table 9 - Class: ['nowraplinks', 'mw-collapsible', 'mw-collapsed', 'navbox-inner']\n",
      "Table 10 - Class: ['nowraplinks', 'navbox-subgroup']\n",
      "Table 11 - Class: ['nowraplinks', 'navbox-subgroup']\n",
      "Table 12 - Class: ['nowraplinks', 'navbox-subgroup']\n",
      "Table 13 - Class: ['nowraplinks', 'navbox-subgroup']\n",
      "Table 14 - Class: ['nowraplinks', 'hlist', 'mw-collapsible', 'autocollapse', 'navbox-inner']\n",
      "Table 15 - Class: ['nowraplinks', 'navbox-subgroup']\n"
     ]
    }
   ],
   "source": [
    "# Find all table elements in the HTML\n",
    "html_tables = soup.find_all('table')\n",
    "\n",
    "# Print the number of tables found\n",
    "print(f\"Number of tables found: {len(html_tables)}\")\n",
    "\n",
    "# Optionally, you can print some information about each table\n",
    "for i, table in enumerate(html_tables):\n",
    "    # Try to get the class of the table, if it exists\n",
    "    table_class = table.get('class')\n",
    "    print(f\"Table {i+1} - Class: {table_class}\")\n",
    "\n"
   ]
  },
  {
   "cell_type": "markdown",
   "metadata": {},
   "source": [
    "Starting from the third table is our target table contains the actual launch records.\n"
   ]
  },
  {
   "cell_type": "code",
   "execution_count": 9,
   "metadata": {
    "tags": []
   },
   "outputs": [
    {
     "name": "stdout",
     "output_type": "stream",
     "text": [
      "<table class=\"wikitable\" style=\"width:100%; font-size:1.00em; line-height:1.5em;\">\n",
      "<tbody><tr class=\"is-sticky\">\n",
      "<th scope=\"col\" style=\"width: 10%;\">Date and time (<a href=\"/wiki/Coordinated_Universal_Time\" title=\"Coordinated Universal Time\">UTC</a>)\n",
      "</th>\n",
      "<th scope=\"col\"><a href=\"/wiki/List_of_Falcon_9_first-stage_boosters\" title=\"List of Falcon 9 first-stage boosters\">Version,<br/>booster</a><sup class=\"reference\" id=\"cite_ref-booster_26-2\"><a href=\"#cite_note-booster-26\">[c]</a></sup>\n",
      "</th>\n",
      "<th scope=\"col\">Launch site\n",
      "</th>\n",
      "<th scope=\"col\">Payload<sup class=\"reference\" id=\"cite_ref-Dragon_27-2\"><a href=\"#cite_note-Dragon-27\">[d]</a></sup>\n",
      "</th>\n",
      "<th scope=\"col\">Orbit\n",
      "</th>\n",
      "<th scope=\"col\">Customer\n",
      "</th></tr>\n",
      "<tr>\n",
      "<td rowspan=\"2\">3 August 2024<br/>15:28<sup class=\"reference\" id=\"cite_ref-nextSFupcoming_391-1\"><a href=\"#cite_note-nextSFupcoming-391\">[383]</a></sup>\n",
      "</td>\n",
      "<td><a href=\"/wiki/Falcon_9_Block_5\" title=\"Falcon 9 Block 5\">F9 B5</a>\n",
      "</td>\n",
      "<td><a href=\"/wiki/Cape_Canaveral_Space_Force_Station\" title=\"Cape Canaveral Space Force Station\">Cape Canaveral</a>,<br/><a href=\"/wiki/Cape_Canaveral_Space_Launch_Complex_40\" title=\"Cape Canaveral Space Launch Complex 40\">SLC-40</a>\n",
      "</td>\n",
      "<td><a href=\"/wiki/Cygnus_NG-21\" title=\"Cygnus NG-21\">NG-21</a><sup class=\"reference\" id=\"cite_ref-392\"><a href=\"#cite_note-392\">[384]</a></sup>\n",
      "</td>\n",
      "<td><a href=\"/wiki/Low_Earth_orbit\" title=\"Low Earth orbit\">LEO</a> (<a class=\"mw-redirect\" href=\"/wiki/ISS\" title=\"ISS\">ISS</a>)\n",
      "</td>\n",
      "<td><a href=\"/wiki/Northrop_Grumman\" title=\"Northrop Grumman\">Northrop Grumman</a> (<a href=\"/wiki/Commercial_Resupply_Services\" title=\"Commercial Resupply Services\">CRS</a>)\n",
      "</td></tr>\n",
      "<tr>\n",
      "<td colspan=\"5\">Second of three launches Northrop Grumman acquired from SpaceX while a replacement engine is developed for its Antares rocket. Unmanned <a href=\"/wiki/Cygnus_(spacecraft)\" title=\"Cygnus (spacecraft)\">Enhanced Cygnus</a> cargo spacecraft named in honor of <i><a href=\"/wiki/Dick_Scobee\" title=\"Dick Scobee\">Francis R. \"Dick\" Scobee</a>.</i>\n",
      "</td></tr>\n",
      "<tr>\n",
      "<td rowspan=\"2\">4 August 2024<br/>~07:00<sup class=\"reference\" id=\"cite_ref-nextSFupcoming_391-2\"><a href=\"#cite_note-nextSFupcoming-391\">[383]</a></sup>\n",
      "</td>\n",
      "<td><a href=\"/wiki/Falcon_9_Block_5\" title=\"Falcon 9 Block 5\">F9 B5</a>\n",
      "</td>\n",
      "<td><a href=\"/wiki/Vandenberg_Space_Force_Base\" title=\"Vandenberg Space Force Base\">Vandenberg</a>,<br/><a href=\"/wiki/Vandenberg_Space_Launch_Complex_4\" title=\"Vandenberg Space Launch Complex 4\">SLC-4E</a>\n",
      "</td>\n",
      "<td><a href=\"/wiki/Starlink\" title=\"Starlink\">Starlink Group 11–1</a> (~21 satellites)\n",
      "</td>\n",
      "<td><a href=\"/wiki/Low_Earth_orbit\" title=\"Low Earth orbit\">LEO</a>\n",
      "</td>\n",
      "<td><a href=\"/wiki/SpaceX\" title=\"SpaceX\">SpaceX</a>\n",
      "</td></tr>\n",
      "<tr>\n",
      "<td colspan=\"5\">A West Coast v2 mini Starlink launch to their Generation 2 network.\n",
      "</td></tr>\n",
      "<tr>\n",
      "<td rowspan=\"2\">7 August 2024<br/>~12:59<sup class=\"reference\" id=\"cite_ref-nextSFupcoming_391-3\"><a href=\"#cite_note-nextSFupcoming-391\">[383]</a></sup>\n",
      "</td>\n",
      "<td><a href=\"/wiki/Falcon_9_Block_5\" title=\"Falcon 9 Block 5\">F9 B5</a>\n",
      "</td>\n",
      "<td><a href=\"/wiki/Cape_Canaveral_Space_Force_Station\" title=\"Cape Canaveral Space Force Station\">Cape Canaveral</a>,<br/><a href=\"/wiki/Cape_Canaveral_Space_Launch_Complex_40\" title=\"Cape Canaveral Space Launch Complex 40\">SLC-40</a>\n",
      "</td>\n",
      "<td><a href=\"/wiki/Starlink\" title=\"Starlink\">Starlink Group 8–3</a> (~20 satellites)\n",
      "</td>\n",
      "<td><a href=\"/wiki/Low_Earth_orbit\" title=\"Low Earth orbit\">LEO</a>\n",
      "</td>\n",
      "<td><a href=\"/wiki/SpaceX\" title=\"SpaceX\">SpaceX</a>\n",
      "</td></tr>\n",
      "<tr>\n",
      "<td colspan=\"5\">An East Coast v2 mini Starlink launch to their Generation 2 network.\n",
      "</td></tr>\n",
      "<tr>\n",
      "<td rowspan=\"2\">15 August 2024<sup class=\"reference\" id=\"cite_ref-nextSFupcoming_391-4\"><a href=\"#cite_note-nextSFupcoming-391\">[383]</a></sup>\n",
      "</td>\n",
      "<td><a href=\"/wiki/Falcon_9_Block_5\" title=\"Falcon 9 Block 5\">F9 B5</a>\n",
      "</td>\n",
      "<td><a href=\"/wiki/Vandenberg_Space_Force_Base\" title=\"Vandenberg Space Force Base\">Vandenberg</a>,<br/> <a class=\"mw-redirect\" href=\"/wiki/SLC-4E\" title=\"SLC-4E\">SLC-4E</a>\n",
      "</td>\n",
      "<td><i><a href=\"/wiki/List_of_spaceflight_launches_in_July%E2%80%93December_2024#SpXTransporter11\" title=\"List of spaceflight launches in July–December 2024\">Transporter-11</a></i><sup class=\"reference\" id=\"cite_ref-spacex-smallsat_307-2\"><a href=\"#cite_note-spacex-smallsat-307\">[299]</a></sup>\n",
      "</td>\n",
      "<td><a href=\"/wiki/Sun-synchronous_orbit\" title=\"Sun-synchronous orbit\">SSO</a>\n",
      "</td>\n",
      "<td>Various\n",
      "</td></tr>\n",
      "<tr>\n",
      "<td colspan=\"5\">Dedicated SmallSat Rideshare mission to sun-synchronous orbit.\n",
      "</td></tr>\n",
      "<tr>\n",
      "<td rowspan=\"2\">18 August 2024<br/>09:39<sup class=\"reference\" id=\"cite_ref-393\"><a href=\"#cite_note-393\">[385]</a></sup>\n",
      "</td>\n",
      "<td><a href=\"/wiki/Falcon_9_Block_5\" title=\"Falcon 9 Block 5\">F9 B5</a> <br/><a href=\"/wiki/List_of_Falcon_9_first-stage_boosters#B1085\" title=\"List of Falcon 9 first-stage boosters\">B1085.1</a>\n",
      "</td>\n",
      "<td><a href=\"/wiki/Kennedy_Space_Center\" title=\"Kennedy Space Center\">Kennedy</a>, <a href=\"/wiki/Kennedy_Space_Center_Launch_Complex_39A\" title=\"Kennedy Space Center Launch Complex 39A\">LC-39A</a>\n",
      "</td>\n",
      "<td><a href=\"/wiki/SpaceX_Crew-9\" title=\"SpaceX Crew-9\">Crew-9</a><sup class=\"reference\" id=\"cite_ref-NASACREW7-9_189-2\"><a href=\"#cite_note-NASACREW7-9-189\">[181]</a></sup> (<a href=\"/wiki/Crew_Dragon_Freedom\" title=\"Crew Dragon Freedom\">Crew Dragon C212.4 <i>Freedom</i></a> ♺)\n",
      "</td>\n",
      "<td><a href=\"/wiki/Low_Earth_orbit\" title=\"Low Earth orbit\">LEO</a> (<a class=\"mw-redirect\" href=\"/wiki/ISS\" title=\"ISS\">ISS</a>)\n",
      "</td>\n",
      "<td><a href=\"/wiki/NASA\" title=\"NASA\">NASA</a> (<a class=\"mw-redirect\" href=\"/wiki/ISS_Crew_Transportation_Services\" title=\"ISS Crew Transportation Services\">CTS</a>)<sup class=\"reference\" id=\"cite_ref-CCD6_85-5\"><a href=\"#cite_note-CCD6-85\">[77]</a></sup>\n",
      "</td></tr>\n",
      "<tr>\n",
      "<td colspan=\"5\">After first six <a class=\"mw-redirect\" href=\"/wiki/Crew_Dragon\" title=\"Crew Dragon\">Crew Dragon</a> launches of NASA <a class=\"mw-redirect\" href=\"/wiki/Commercial_Crew_Development\" title=\"Commercial Crew Development\">USCV</a> award, a further three missions for SpaceX were announced on 3 December 2021. These launches carry up to four astronauts and 100 kg (220 lb) of cargo to the ISS as well as feature a lifeboat function to evacuate astronauts from ISS in case of an emergency.<sup class=\"reference\" id=\"cite_ref-CCD6_85-6\"><a href=\"#cite_note-CCD6-85\">[77]</a></sup>\n",
      "</td></tr>\n",
      "<tr>\n",
      "<td rowspan=\"2\">August 2024<sup class=\"reference\" id=\"cite_ref-nextSFupcoming_391-5\"><a href=\"#cite_note-nextSFupcoming-391\">[383]</a></sup>\n",
      "</td>\n",
      "<td><a href=\"/wiki/Falcon_9_Block_5\" title=\"Falcon 9 Block 5\">F9 B5</a>\n",
      "</td>\n",
      "<td><a href=\"/wiki/Cape_Canaveral_Space_Force_Station\" title=\"Cape Canaveral Space Force Station\">Cape Canaveral</a>,<br/><a href=\"/wiki/Cape_Canaveral_Space_Launch_Complex_40\" title=\"Cape Canaveral Space Launch Complex 40\">SLC-40</a>\n",
      "</td>\n",
      "<td><a href=\"/wiki/Starlink\" title=\"Starlink\">Starlink Group 10–5</a> (~23 satellites)\n",
      "</td>\n",
      "<td><a href=\"/wiki/Low_Earth_orbit\" title=\"Low Earth orbit\">LEO</a>\n",
      "</td>\n",
      "<td><a href=\"/wiki/SpaceX\" title=\"SpaceX\">SpaceX</a>\n",
      "</td></tr>\n",
      "<tr>\n",
      "<td colspan=\"5\">An East Coast v2 mini Starlink launch to their Generation 2 network.\n",
      "</td></tr>\n",
      "<tr>\n",
      "<td rowspan=\"2\">August 2024<sup class=\"reference\" id=\"cite_ref-394\"><a href=\"#cite_note-394\">[386]</a></sup><sup class=\"reference\" id=\"cite_ref-395\"><a href=\"#cite_note-395\">[387]</a></sup>\n",
      "</td>\n",
      "<td><a href=\"/wiki/Falcon_9_Block_5\" title=\"Falcon 9 Block 5\">F9 B5</a>\n",
      "</td>\n",
      "<td><a href=\"/wiki/Vandenberg_Space_Force_Base\" title=\"Vandenberg Space Force Base\">Vandenberg</a>,<br/><a href=\"/wiki/Vandenberg_Space_Launch_Complex_4\" title=\"Vandenberg Space Launch Complex 4\">SLC-4E</a>\n",
      "</td>\n",
      "<td><a class=\"mw-redirect\" href=\"/wiki/Arctic_Satellite_Broadband_Mission\" title=\"Arctic Satellite Broadband Mission\">ASBM 1</a> (<a class=\"mw-redirect\" href=\"/wiki/Global_Xpress\" title=\"Global Xpress\">GX</a> 10A),<sup class=\"reference\" id=\"cite_ref-396\"><a href=\"#cite_note-396\">[388]</a></sup> <a class=\"mw-redirect\" href=\"/wiki/Arctic_Satellite_Broadband_Mission\" title=\"Arctic Satellite Broadband Mission\">ASBM 2</a> (<a class=\"mw-redirect\" href=\"/wiki/Global_Xpress\" title=\"Global Xpress\">GX</a> 10B)\n",
      "</td>\n",
      "<td><a href=\"/wiki/Highly_elliptical_orbit\" title=\"Highly elliptical orbit\">HEO</a>\n",
      "</td>\n",
      "<td><a href=\"/wiki/Norwegian_Space_Agency\" title=\"Norwegian Space Agency\">Space Norway</a> / <a href=\"/wiki/Inmarsat\" title=\"Inmarsat\">Inmarsat</a>\n",
      "</td></tr>\n",
      "<tr>\n",
      "<td colspan=\"5\"><a href=\"/wiki/Norwegian_Space_Agency\" title=\"Norwegian Space Agency\">Space Norway</a> will launch 2 satellites of the <a class=\"mw-redirect\" href=\"/wiki/Arctic_Satellite_Broadband_Mission\" title=\"Arctic Satellite Broadband Mission\">Arctic Satellite Broadband Mission</a> (ASBM) system into highly elliptical orbits (apogee: 43,509 km (27,035 mi), perigee: 8,089 km (5,026 mi), 63.4° inclination)<sup class=\"reference\" id=\"cite_ref-397\"><a href=\"#cite_note-397\">[389]</a></sup> to provide communication coverage to high latitudes not served by geosynchronous satellites.<sup class=\"reference\" id=\"cite_ref-398\"><a href=\"#cite_note-398\">[390]</a></sup>\n",
      "</td></tr>\n",
      "<tr>\n",
      "<td rowspan=\"2\">August 2024<sup class=\"reference\" id=\"cite_ref-399\"><a href=\"#cite_note-399\">[391]</a></sup><sup class=\"reference\" id=\"cite_ref-400\"><a href=\"#cite_note-400\">[392]</a></sup>\n",
      "</td>\n",
      "<td><a href=\"/wiki/Falcon_9_Block_5\" title=\"Falcon 9 Block 5\">F9 B5</a> ♺<br/><a href=\"/wiki/List_of_Falcon_9_first-stage_boosters#B1083\" title=\"List of Falcon 9 first-stage boosters\">B1083.4</a>\n",
      "</td>\n",
      "<td><a href=\"/wiki/Kennedy_Space_Center\" title=\"Kennedy Space Center\">Kennedy</a>,<br/><a href=\"/wiki/Kennedy_Space_Center_Launch_Complex_39A\" title=\"Kennedy Space Center Launch Complex 39A\">LC-39A</a>\n",
      "</td>\n",
      "<td><a href=\"/wiki/Polaris_Dawn\" title=\"Polaris Dawn\">Polaris Dawn</a><sup class=\"reference\" id=\"cite_ref-401\"><a href=\"#cite_note-401\">[393]</a></sup><br/>(<a href=\"/wiki/Crew_Dragon_Resilience\" title=\"Crew Dragon Resilience\">Crew Dragon C207.3 <i>Resilience</i></a> ♺)\n",
      "</td>\n",
      "<td><a href=\"/wiki/Low_Earth_orbit\" title=\"Low Earth orbit\">LEO</a>\n",
      "</td>\n",
      "<td><a class=\"mw-redirect\" href=\"/wiki/Polaris_Program\" title=\"Polaris Program\">Polaris Program</a>\n",
      "</td></tr>\n",
      "<tr>\n",
      "<td colspan=\"5\">First of two <a href=\"/wiki/SpaceX_Dragon_2\" title=\"SpaceX Dragon 2\">Crew Dragon</a> missions for the Polaris Program. Crew will consist of <a href=\"/wiki/Jared_Isaacman\" title=\"Jared Isaacman\">Jared Isaacman</a>, <a href=\"/wiki/Scott_Poteet\" title=\"Scott Poteet\">Scott Poteet</a>, <a href=\"/wiki/Sarah_Gillis\" title=\"Sarah Gillis\">Sarah Gillis</a> and <a href=\"/wiki/Anna_Menon\" title=\"Anna Menon\">Anna Menon</a> and will spend up to five days in orbit. Flying higher than any crewed Earth orbiting spacecraft has ever flown, Polaris Dawn will conduct research with the aim of better understanding the effects of spaceflight and space radiation on human health. At approximately 700 kilometers above the Earth, the crew will attempt the first-ever commercial extravehicular activity (EVA) with SpaceX-designed EVA spacesuits, derived from the existing intravehicular (IVA) suit.\n",
      "</td></tr>\n",
      "<tr>\n",
      "<td rowspan=\"2\">August 2024 <sup class=\"reference\" id=\"cite_ref-nextSFupcoming_391-6\"><a href=\"#cite_note-nextSFupcoming-391\">[383]</a></sup><sup class=\"reference\" id=\"cite_ref-shephard14224_402-0\"><a href=\"#cite_note-shephard14224-402\">[394]</a></sup>\n",
      "</td>\n",
      "<td><a href=\"/wiki/Falcon_9_Block_5\" title=\"Falcon 9 Block 5\">F9 B5</a> ♺<sup class=\"reference\" id=\"cite_ref-worldviewlegion_341-2\"><a href=\"#cite_note-worldviewlegion-341\">[333]</a></sup><sup class=\"reference\" id=\"cite_ref-WorldView-Legion_1,_...,_6_403-0\"><a href=\"#cite_note-WorldView-Legion_1,_...,_6-403\">[395]</a></sup>\n",
      "</td>\n",
      "<td><a href=\"/wiki/Cape_Canaveral_Space_Force_Station\" title=\"Cape Canaveral Space Force Station\">Cape Canaveral</a>,<br/><a href=\"/wiki/Cape_Canaveral_Space_Launch_Complex_40\" title=\"Cape Canaveral Space Launch Complex 40\">SLC-40</a>\n",
      "</td>\n",
      "<td><a href=\"/wiki/DigitalGlobe#WorldView_Legion\" title=\"DigitalGlobe\">WorldView Legion 3–4</a> Mission 2 (2 sats)<sup class=\"reference\" id=\"cite_ref-spacenews.com_404-0\"><a href=\"#cite_note-spacenews.com-404\">[396]</a></sup><sup class=\"reference\" id=\"cite_ref-SN240423_405-0\"><a href=\"#cite_note-SN240423-405\">[397]</a></sup><sup class=\"reference\" id=\"cite_ref-worldviewLegion10QSept22_406-0\"><a href=\"#cite_note-worldviewLegion10QSept22-406\">[398]</a></sup>\n",
      "</td>\n",
      "<td><a href=\"/wiki/Sun-synchronous_orbit\" title=\"Sun-synchronous orbit\">SSO</a>\n",
      "</td>\n",
      "<td><a href=\"/wiki/Maxar_Technologies\" title=\"Maxar Technologies\">Maxar Technologies</a>\n",
      "</td></tr>\n",
      "<tr>\n",
      "<td colspan=\"5\"><a href=\"/wiki/Maxar_Technologies\" title=\"Maxar Technologies\">Maxar Technologies</a> built satellites.\n",
      "</td></tr>\n",
      "<tr>\n",
      "<td rowspan=\"2\">August 2024<sup class=\"reference\" id=\"cite_ref-407\"><a href=\"#cite_note-407\">[399]</a></sup>\n",
      "</td>\n",
      "<td><a href=\"/wiki/Falcon_9_Block_5\" title=\"Falcon 9 Block 5\">F9 B5</a>\n",
      "</td>\n",
      "<td>TBA (FL)\n",
      "</td>\n",
      "<td><a href=\"/wiki/GSAT-20\" title=\"GSAT-20\">GSAT-20</a><sup class=\"reference\" id=\"cite_ref-NSIL_408-0\"><a href=\"#cite_note-NSIL-408\">[400]</a></sup> (CMS-03)\n",
      "</td>\n",
      "<td><a href=\"/wiki/Geostationary_transfer_orbit\" title=\"Geostationary transfer orbit\">GTO</a>\n",
      "</td>\n",
      "<td><a class=\"mw-redirect\" href=\"/wiki/New_Space_India_Limited\" title=\"New Space India Limited\">New Space India Limited</a><sup class=\"reference\" id=\"cite_ref-NSIL_408-1\"><a href=\"#cite_note-NSIL-408\">[400]</a></sup><br/><a href=\"/wiki/Dish_TV\" title=\"Dish TV\">Dish TV</a><sup class=\"reference\" id=\"cite_ref-409\"><a href=\"#cite_note-409\">[401]</a></sup>\n",
      "</td></tr>\n",
      "<tr>\n",
      "<td colspan=\"5\">Indian telecommunications satellite for <a href=\"/wiki/Dish_TV\" title=\"Dish TV\">Dish TV</a>. Originally planned to launch on <a href=\"/wiki/ISRO\" title=\"ISRO\">ISRO</a>'s <a href=\"/wiki/LVM3\" title=\"LVM3\">LVM3</a>,<sup class=\"reference\" id=\"cite_ref-annualreport2018_410-0\"><a href=\"#cite_note-annualreport2018-410\">[402]</a></sup> but later shifted to <a href=\"/wiki/Falcon_9\" title=\"Falcon 9\">Falcon 9</a> due to mass and scheduling issues.<sup class=\"reference\" id=\"cite_ref-sn-20240102_411-0\"><a href=\"#cite_note-sn-20240102-411\">[403]</a></sup> It will be the first ISRO-made satellite to move from <a href=\"/wiki/Geostationary_transfer_orbit\" title=\"Geostationary transfer orbit\">geostationary transfer orbit</a> to <a href=\"/wiki/Geostationary_orbit\" title=\"Geostationary orbit\">geostationary orbit</a> using electric propulsion.<sup class=\"reference\" id=\"cite_ref-thewire_412-0\"><a href=\"#cite_note-thewire-412\">[404]</a></sup>\n",
      "</td></tr>\n",
      "<tr>\n",
      "<td rowspan=\"2\">13 September 2024 <sup class=\"reference\" id=\"cite_ref-Galileo_413-0\"><a href=\"#cite_note-Galileo-413\">[405]</a></sup>\n",
      "</td>\n",
      "<td><a href=\"/wiki/Falcon_9_Block_5\" title=\"Falcon 9 Block 5\">F9 B5</a>\n",
      "</td>\n",
      "<td>TBD\n",
      "</td>\n",
      "<td>2× <a href=\"/wiki/Galileo_(satellite_navigation)\" title=\"Galileo (satellite navigation)\">Galileo</a>\n",
      "</td>\n",
      "<td><a class=\"mw-redirect\" href=\"/wiki/Medium_Earth_Orbit\" title=\"Medium Earth Orbit\">MEO</a>\n",
      "</td>\n",
      "<td><a href=\"/wiki/European_Space_Agency\" title=\"European Space Agency\">ESA</a>\n",
      "</td></tr>\n",
      "<tr>\n",
      "<td colspan=\"5\">Second launch of Galileo satellites.\n",
      "</td></tr>\n",
      "<tr>\n",
      "<td rowspan=\"2\">September 2024<sup class=\"reference\" id=\"cite_ref-414\"><a href=\"#cite_note-414\">[406]</a></sup><sup class=\"reference\" id=\"cite_ref-415\"><a href=\"#cite_note-415\">[407]</a></sup>\n",
      "</td>\n",
      "<td><a href=\"/wiki/Falcon_9_Block_5\" title=\"Falcon 9 Block 5\">F9 B5</a>\n",
      "</td>\n",
      "<td>TBA (FL)\n",
      "</td>\n",
      "<td><a class=\"mw-redirect\" href=\"/wiki/SpaceX_CRS-31\" title=\"SpaceX CRS-31\">SpaceX CRS-31</a><sup class=\"reference\" id=\"cite_ref-March2022CRS2_319-1\"><a href=\"#cite_note-March2022CRS2-319\">[311]</a></sup>\n",
      "</td>\n",
      "<td><a href=\"/wiki/Low_Earth_orbit\" title=\"Low Earth orbit\">LEO</a> (<a class=\"mw-redirect\" href=\"/wiki/ISS\" title=\"ISS\">ISS</a>)\n",
      "</td>\n",
      "<td><a href=\"/wiki/NASA\" title=\"NASA\">NASA</a> (<a href=\"/wiki/Commercial_Resupply_Services\" title=\"Commercial Resupply Services\">CRS</a>)\n",
      "</td></tr>\n",
      "<tr>\n",
      "<td colspan=\"5\">Six additional <a href=\"/wiki/Commercial_Resupply_Services\" title=\"Commercial Resupply Services\">CRS-2</a> missions for Dragon 2 were announced in March 2022, resupplying the ISS until 2026.\n",
      "</td></tr>\n",
      "<tr>\n",
      "<td rowspan=\"2\">September 2024 <sup class=\"reference\" id=\"cite_ref-DoD28222_416-0\"><a href=\"#cite_note-DoD28222-416\">[408]</a></sup>\n",
      "</td>\n",
      "<td><a href=\"/wiki/Falcon_9_Block_5\" title=\"Falcon 9 Block 5\">F9 B5</a>\n",
      "</td>\n",
      "<td><a href=\"/wiki/Vandenberg_Space_Force_Base\" title=\"Vandenberg Space Force Base\">Vandenberg</a>,<br/><a href=\"/wiki/Vandenberg_Space_Launch_Complex_4\" title=\"Vandenberg Space Launch Complex 4\">SLC-4E</a>\n",
      "</td>\n",
      "<td><a href=\"/wiki/Space_Development_Agency#Launches\" title=\"Space Development Agency\">SDA Tranche 1 Tracking layer T1TL-B</a><sup class=\"reference\" id=\"cite_ref-SSCA12_417-0\"><a href=\"#cite_note-SSCA12-417\">[409]</a></sup>\n",
      "</td>\n",
      "<td><a href=\"/wiki/Polar_orbit\" title=\"Polar orbit\">Polar</a> <a href=\"/wiki/Low_Earth_orbit\" title=\"Low Earth orbit\">LEO</a>\n",
      "</td>\n",
      "<td><a href=\"/wiki/Space_Development_Agency\" title=\"Space Development Agency\">SDA</a>\n",
      "</td></tr>\n",
      "<tr>\n",
      "<td colspan=\"5\">Launch part of Phase 2 US Space Force contract awarded in 2022.\n",
      "</td></tr>\n",
      "<tr>\n",
      "<td rowspan=\"2\">Q3 2024 <sup class=\"reference\" id=\"cite_ref-418\"><a href=\"#cite_note-418\">[410]</a></sup><sup class=\"reference\" id=\"cite_ref-419\"><a href=\"#cite_note-419\">[411]</a></sup>\n",
      "</td>\n",
      "<td><a href=\"/wiki/Falcon_9_Block_5\" title=\"Falcon 9 Block 5\">F9 B5</a>\n",
      "</td>\n",
      "<td>TBA (FL)\n",
      "</td>\n",
      "<td><a href=\"/wiki/Astranis\" title=\"Astranis\">MicroGEO</a> (4 satellites)<sup class=\"reference\" id=\"cite_ref-astranis-microgeo-f9_420-0\"><a href=\"#cite_note-astranis-microgeo-f9-420\">[412]</a></sup>\n",
      "</td>\n",
      "<td><a href=\"/wiki/Geostationary_orbit\" title=\"Geostationary orbit\">GEO</a>\n",
      "</td>\n",
      "<td><a href=\"/wiki/Astranis\" title=\"Astranis\">Astranis</a>\n",
      "</td></tr>\n",
      "<tr>\n",
      "<td colspan=\"5\">Dedicated Falcon 9 launch to put four Astranis MicroGEO communications satellites into service in 2023.<sup class=\"reference\" id=\"cite_ref-astranis-microgeo-f9_420-1\"><a href=\"#cite_note-astranis-microgeo-f9-420\">[412]</a></sup> The MicroGEOs will be launched to a custom geostationary orbit, with the four satellites individually conducting on-orbit maneuvers to inject themselves into their orbital slots. However, it is unclear whether this will be a direct to <a href=\"/wiki/Geostationary_orbit\" title=\"Geostationary orbit\">geostationary orbit</a> insertion, or an optimized <a href=\"/wiki/Geostationary_transfer_orbit\" title=\"Geostationary transfer orbit\">geostationary transfer orbit</a>. The four spacecraft will be mounted to a standard adapter ring, known as an <a href=\"/wiki/EELV_Secondary_Payload_Adapter\" title=\"EELV Secondary Payload Adapter\">ESPA-Grande</a>, for ease of deployment.\n",
      "</td></tr>\n",
      "<tr>\n",
      "<td rowspan=\"2\">Q3 2024 <sup class=\"reference\" id=\"cite_ref-nextSFupcoming_391-7\"><a href=\"#cite_note-nextSFupcoming-391\">[383]</a></sup><sup class=\"reference\" id=\"cite_ref-Rainbow_421-0\"><a href=\"#cite_note-Rainbow-421\">[413]</a></sup>\n",
      "</td>\n",
      "<td><a href=\"/wiki/Falcon_9_Block_5\" title=\"Falcon 9 Block 5\">F9 B5</a>\n",
      "</td>\n",
      "<td>TBD\n",
      "</td>\n",
      "<td>BlueBird Block 1 (5 Satellites)<sup class=\"reference\" id=\"cite_ref-AST_SpaceMobile_delays_commercial_s_422-0\"><a href=\"#cite_note-AST_SpaceMobile_delays_commercial_s-422\">[414]</a></sup>\n",
      "</td>\n",
      "<td><a href=\"/wiki/Low_Earth_orbit\" title=\"Low Earth orbit\">LEO</a>\n",
      "</td>\n",
      "<td><a href=\"/wiki/AST_SpaceMobile\" title=\"AST SpaceMobile\">AST SpaceMobile</a>\n",
      "</td></tr>\n",
      "<tr>\n",
      "<td colspan=\"5\">Cellphone-compatible broadband constellation. Each satellite is to be a similar size and weight to its 1,500-kilogram BlueWalker 3 prototype and have a 64 square meter phased array antenna.\n",
      "</td></tr>\n",
      "<tr>\n",
      "<td rowspan=\"2\">7 October 2024<sup class=\"reference\" id=\"cite_ref-sn-20221020_157-1\"><a href=\"#cite_note-sn-20221020-157\">[149]</a></sup>\n",
      "</td>\n",
      "<td><a href=\"/wiki/Falcon_9_Block_5\" title=\"Falcon 9 Block 5\">F9 B5</a>\n",
      "</td>\n",
      "<td><a href=\"/wiki/Cape_Canaveral_Space_Force_Station\" title=\"Cape Canaveral Space Force Station\">Cape Canaveral</a>, <a href=\"/wiki/Cape_Canaveral_Space_Launch_Complex_40\" title=\"Cape Canaveral Space Launch Complex 40\">SLC-40</a>\n",
      "</td>\n",
      "<td><a href=\"/wiki/Hera_(space_mission)\" title=\"Hera (space mission)\">Hera</a> with Juventas and Milani\n",
      "</td>\n",
      "<td><a href=\"/wiki/Heliocentric_orbit\" title=\"Heliocentric orbit\">Heliocentric</a>\n",
      "</td>\n",
      "<td><a class=\"mw-redirect\" href=\"/wiki/ESA\" title=\"ESA\">ESA</a>\n",
      "</td></tr>\n",
      "<tr>\n",
      "<td colspan=\"5\">Hera is a space mission in development at the <a href=\"/wiki/European_Space_Agency\" title=\"European Space Agency\">European Space Agency</a> in its Space Safety program. Its primary objective is to study the <a href=\"/wiki/65803_Didymos\" title=\"65803 Didymos\">Didymos binary asteroid system</a> that was impacted by <a href=\"/wiki/Double_Asteroid_Redirection_Test\" title=\"Double Asteroid Redirection Test\">DART</a> and contribute to validation of the <a href=\"/wiki/Kinetic_energy\" title=\"Kinetic energy\">kinetic</a> impact method to deviate a <a href=\"/wiki/Near-Earth_object\" title=\"Near-Earth object\">near-Earth asteroid</a> in a colliding trajectory with Earth. It will measure the size and the morphology of the crater created by and momentum transferred by an artificial projectile impacting an asteroid, which will allow measuring the efficiency of the deflection produced by the impact. It will also carry two <a href=\"/wiki/Small_satellite\" title=\"Small satellite\">nano-satellite</a> CubeSats, called <i>Milani</i> and <i>Juventas</i>.\n",
      "</td></tr>\n",
      "<tr>\n",
      "<td rowspan=\"4\">10 October 2024 <sup class=\"reference\" id=\"cite_ref-423\"><a href=\"#cite_note-423\">[415]</a></sup>\n",
      "</td>\n",
      "<td><a href=\"/wiki/Falcon_Heavy\" title=\"Falcon Heavy\">Falcon Heavy B5</a><br/><a href=\"/wiki/List_of_Falcon_9_first-stage_boosters\" title=\"List of Falcon 9 first-stage boosters\">B1090 (core)</a>\n",
      "</td>\n",
      "<td rowspan=\"3\"><a href=\"/wiki/Kennedy_Space_Center\" title=\"Kennedy Space Center\">Kennedy</a>,<br/><a href=\"/wiki/Kennedy_Space_Center_Launch_Complex_39A\" title=\"Kennedy Space Center Launch Complex 39A\">LC-39A</a>\n",
      "</td>\n",
      "<td rowspan=\"3\"><a href=\"/wiki/Europa_Clipper\" title=\"Europa Clipper\">Europa Clipper</a>\n",
      "</td>\n",
      "<td rowspan=\"3\"><a href=\"/wiki/Heliocentric_orbit\" title=\"Heliocentric orbit\">Heliocentric</a>\n",
      "</td>\n",
      "<td rowspan=\"3\"><a href=\"/wiki/NASA\" title=\"NASA\">NASA</a>\n",
      "</td></tr>\n",
      "<tr>\n",
      "<td><a href=\"/wiki/List_of_Falcon_9_first-stage_boosters#B1064\" title=\"List of Falcon 9 first-stage boosters\">B1064.6 ♺ (side)</a><sup class=\"reference\" id=\"cite_ref-arstechpsyche20230829_424-0\"><a href=\"#cite_note-arstechpsyche20230829-424\">[416]</a></sup>\n",
      "</td></tr>\n",
      "<tr>\n",
      "<td><a href=\"/wiki/List_of_Falcon_9_first-stage_boosters#B1065\" title=\"List of Falcon 9 first-stage boosters\">B1065.6 ♺ (side)</a><sup class=\"reference\" id=\"cite_ref-arstechpsyche20230829_424-1\"><a href=\"#cite_note-arstechpsyche20230829-424\">[416]</a></sup>\n",
      "</td></tr>\n",
      "<tr>\n",
      "<td colspan=\"5\"><a href=\"/wiki/Europa_Clipper\" title=\"Europa Clipper\">Europa Clipper</a> will conduct a detailed survey of <a href=\"/wiki/Europa_(moon)\" title=\"Europa (moon)\">Europa</a> and use a sophisticated suite of science instruments to investigate whether the icy moon has conditions suitable for life. Key mission objectives are to produce high-resolution images of Europa's surface, determine its composition, look for signs of recent or ongoing geological activity, measure the thickness of the moon's icy shell, search for subsurface lakes, and determine the depth and salinity of Europa's ocean.<sup class=\"reference\" id=\"cite_ref-NASA_EC_L_425-0\"><a href=\"#cite_note-NASA_EC_L-425\">[417]</a></sup> The mission will fly past Mars and Earth before arriving at Jupiter in April 2030.<sup class=\"reference\" id=\"cite_ref-426\"><a href=\"#cite_note-426\">[418]</a></sup><sup class=\"reference\" id=\"cite_ref-427\"><a href=\"#cite_note-427\">[419]</a></sup> The side boosters and the center core will all be expended.\n",
      "</td></tr>\n",
      "<tr>\n",
      "<td rowspan=\"2\">October 2024 <sup class=\"reference\" id=\"cite_ref-428\"><a href=\"#cite_note-428\">[420]</a></sup>\n",
      "</td>\n",
      "<td><a href=\"/wiki/Falcon_9_Block_5\" title=\"Falcon 9 Block 5\">F9 B5</a>\n",
      "</td>\n",
      "<td><a href=\"/wiki/Kennedy_Space_Center\" title=\"Kennedy Space Center\">Kennedy</a>,<br/><a href=\"/wiki/Kennedy_Space_Center_Launch_Complex_39A\" title=\"Kennedy Space Center Launch Complex 39A\">LC-39A</a>\n",
      "</td>\n",
      "<td><a class=\"mw-redirect\" href=\"/wiki/Blue_Ghost\" title=\"Blue Ghost\">Blue Ghost</a> M1<sup class=\"reference\" id=\"cite_ref-429\"><a href=\"#cite_note-429\">[421]</a></sup><sup class=\"reference\" id=\"cite_ref-430\"><a href=\"#cite_note-430\">[422]</a></sup>\n",
      "</td>\n",
      "<td><a href=\"/wiki/Trans-lunar_injection\" title=\"Trans-lunar injection\">TLI</a>\n",
      "</td>\n",
      "<td><a href=\"/wiki/Firefly_Aerospace\" title=\"Firefly Aerospace\">Firefly Aerospace</a><br/>NASA (<a href=\"/wiki/Commercial_Lunar_Payload_Services\" title=\"Commercial Lunar Payload Services\">CLPS</a>)\n",
      "</td></tr>\n",
      "<tr>\n",
      "<td colspan=\"5\"><a href=\"/wiki/Firefly_Aerospace\" title=\"Firefly Aerospace\">Firefly Aerospace</a> has selected <a href=\"/wiki/SpaceX\" title=\"SpaceX\">SpaceX</a>'s Falcon 9 rocket to deliver the Blue Ghost lunar lander to the lunar surface.<sup class=\"reference\" id=\"cite_ref-431\"><a href=\"#cite_note-431\">[423]</a></sup> Blue Ghost will carry 10 payloads for NASA's <a href=\"/wiki/Commercial_Lunar_Payload_Services\" title=\"Commercial Lunar Payload Services\">Commercial Lunar Payload Services</a> task order 19D mission along with other separately contracted payloads.<sup class=\"reference\" id=\"cite_ref-432\"><a href=\"#cite_note-432\">[424]</a></sup>\n",
      "</td></tr>\n",
      "<tr>\n",
      "<td rowspan=\"2\">October 2024 <sup class=\"reference\" id=\"cite_ref-spacex-smallsat_307-3\"><a href=\"#cite_note-spacex-smallsat-307\">[299]</a></sup>\n",
      "</td>\n",
      "<td><a href=\"/wiki/Falcon_9_Block_5\" title=\"Falcon 9 Block 5\">F9 B5</a>\n",
      "</td>\n",
      "<td>TBD\n",
      "</td>\n",
      "<td><a href=\"/wiki/List_of_spaceflight_launches_in_July%E2%80%93December_2024#SpXTransporter12\" title=\"List of spaceflight launches in July–December 2024\"><i>Transporter-12</i></a>, SmallSat Rideshare\n",
      "</td>\n",
      "<td><a href=\"/wiki/Sun-synchronous_orbit\" title=\"Sun-synchronous orbit\">SSO</a>\n",
      "</td>\n",
      "<td>Various\n",
      "</td></tr>\n",
      "<tr>\n",
      "<td colspan=\"5\">Dedicated SmallSat Rideshare mission to sun-synchronous orbit.\n",
      "</td></tr>\n",
      "<tr>\n",
      "<td rowspan=\"2\">October 2024<sup class=\"reference\" id=\"cite_ref-DoD28222_416-1\"><a href=\"#cite_note-DoD28222-416\">[408]</a></sup>\n",
      "</td>\n",
      "<td><a href=\"/wiki/Falcon_9_Block_5\" title=\"Falcon 9 Block 5\">F9 B5</a>\n",
      "</td>\n",
      "<td><a href=\"/wiki/Vandenberg_Space_Force_Base\" title=\"Vandenberg Space Force Base\">Vandenberg</a>,<br/><a href=\"/wiki/Vandenberg_Space_Launch_Complex_4\" title=\"Vandenberg Space Launch Complex 4\">SLC-4E</a>\n",
      "</td>\n",
      "<td><a href=\"/wiki/Space_Development_Agency#Launches\" title=\"Space Development Agency\">SDA Tranche 1 Tracking layer T1TL-C</a><sup class=\"reference\" id=\"cite_ref-SSCA12_417-1\"><a href=\"#cite_note-SSCA12-417\">[409]</a></sup>\n",
      "</td>\n",
      "<td><a href=\"/wiki/Polar_orbit\" title=\"Polar orbit\">Polar</a> <a href=\"/wiki/Low_Earth_orbit\" title=\"Low Earth orbit\">LEO</a>\n",
      "</td>\n",
      "<td><a href=\"/wiki/Space_Development_Agency\" title=\"Space Development Agency\">SDA</a>\n",
      "</td></tr>\n",
      "<tr>\n",
      "<td colspan=\"5\">Launch part of Phase 2 US Space Force contract awarded in 2022.\n",
      "</td></tr>\n",
      "<tr>\n",
      "<td rowspan=\"2\">October 2024<sup class=\"reference\" id=\"cite_ref-433\"><a href=\"#cite_note-433\">[425]</a></sup>\n",
      "</td>\n",
      "<td><a href=\"/wiki/Falcon_9_Block_5\" title=\"Falcon 9 Block 5\">F9 B5</a>\n",
      "</td>\n",
      "<td><a href=\"/wiki/Kennedy_Space_Center\" title=\"Kennedy Space Center\">Kennedy</a>,<br/><a href=\"/wiki/Kennedy_Space_Center_Launch_Complex_39A\" title=\"Kennedy Space Center Launch Complex 39A\">LC-39A</a>\n",
      "</td>\n",
      "<td><a href=\"/wiki/Axiom_Mission_4\" title=\"Axiom Mission 4\">Ax-4</a><sup class=\"reference\" id=\"cite_ref-axiom_132-2\"><a href=\"#cite_note-axiom-132\">[124]</a></sup>\n",
      "</td>\n",
      "<td><a href=\"/wiki/Low_Earth_orbit\" title=\"Low Earth orbit\">LEO</a> (<a class=\"mw-redirect\" href=\"/wiki/ISS\" title=\"ISS\">ISS</a>)\n",
      "</td>\n",
      "<td><a href=\"/wiki/Axiom_Space\" title=\"Axiom Space\">Axiom Space</a>\n",
      "</td></tr>\n",
      "<tr>\n",
      "<td colspan=\"5\">Contract for 3 additional missions was signed in June 2021.\n",
      "</td></tr>\n",
      "<tr>\n",
      "<td rowspan=\"2\">November 2024<sup class=\"reference\" id=\"cite_ref-atalayar-20240422_434-0\"><a href=\"#cite_note-atalayar-20240422-434\">[426]</a></sup>\n",
      "</td>\n",
      "<td><a href=\"/wiki/Falcon_9_Block_5\" title=\"Falcon 9 Block 5\">F9 B5</a>\n",
      "</td>\n",
      "<td>TBA (FL)\n",
      "</td>\n",
      "<td><a href=\"/wiki/Spainsat_NG\" title=\"Spainsat NG\">Spainsat-NG I</a><sup class=\"reference\" id=\"cite_ref-hisdesat-20221107_435-0\"><a href=\"#cite_note-hisdesat-20221107-435\">[427]</a></sup>\n",
      "</td>\n",
      "<td><a href=\"/wiki/Geostationary_transfer_orbit\" title=\"Geostationary transfer orbit\">GTO</a>\n",
      "</td>\n",
      "<td><a href=\"/wiki/Hisdesat\" title=\"Hisdesat\">Hisdesat</a>\n",
      "</td></tr>\n",
      "<tr>\n",
      "<td colspan=\"5\">Communications satellite built on the <a href=\"/wiki/Eurostar_(satellite_bus)\" title=\"Eurostar (satellite bus)\">Eurostar-Neo</a> platform, to be utilized by the Spanish government and its allies.<sup class=\"reference\" id=\"cite_ref-:7_436-0\"><a href=\"#cite_note-:7-436\">[428]</a></sup> First of two launches for the Spainsat-NG program.\n",
      "</td></tr>\n",
      "<tr>\n",
      "<td rowspan=\"2\">November 2024\n",
      "</td>\n",
      "<td><a href=\"/wiki/Falcon_9_Block_5\" title=\"Falcon 9 Block 5\">F9 B5</a>\n",
      "</td>\n",
      "<td>TBD\n",
      "</td>\n",
      "<td><i><a href=\"/wiki/List_of_spaceflight_launches_in_July%E2%80%93December_2024#SpXBandwagon2\" title=\"List of spaceflight launches in July–December 2024\">Bandwagon-2</a></i>, SmallSat Rideshare<sup class=\"reference\" id=\"cite_ref-spacex-smallsat_307-4\"><a href=\"#cite_note-spacex-smallsat-307\">[299]</a></sup><sup class=\"reference\" id=\"cite_ref-BandW_329-1\"><a href=\"#cite_note-BandW-329\">[321]</a></sup>\n",
      "</td>\n",
      "<td><a href=\"/wiki/Low_Earth_orbit\" title=\"Low Earth orbit\">LEO</a>\n",
      "</td>\n",
      "<td>Various\n",
      "</td></tr>\n",
      "<tr>\n",
      "<td colspan=\"5\">Dedicated SmallSat Rideshare mission to 45 degree inclination 550–600 km altitude.\n",
      "</td></tr>\n",
      "<tr>\n",
      "<td rowspan=\"2\">November 2024<sup class=\"reference\" id=\"cite_ref-DoD28222_416-2\"><a href=\"#cite_note-DoD28222-416\">[408]</a></sup>\n",
      "</td>\n",
      "<td><a href=\"/wiki/Falcon_9_Block_5\" title=\"Falcon 9 Block 5\">F9 B5</a>\n",
      "</td>\n",
      "<td><a href=\"/wiki/Vandenberg_Space_Force_Base\" title=\"Vandenberg Space Force Base\">Vandenberg</a>,<br/><a href=\"/wiki/Vandenberg_Space_Launch_Complex_4\" title=\"Vandenberg Space Launch Complex 4\">SLC-4E</a>\n",
      "</td>\n",
      "<td><a href=\"/wiki/Space_Development_Agency#Launches\" title=\"Space Development Agency\">SDA Tranche 1 Tracking layer T1TL-D</a><sup class=\"reference\" id=\"cite_ref-SSCA12_417-2\"><a href=\"#cite_note-SSCA12-417\">[409]</a></sup>\n",
      "</td>\n",
      "<td><a href=\"/wiki/Polar_orbit\" title=\"Polar orbit\">Polar</a> <a href=\"/wiki/Low_Earth_orbit\" title=\"Low Earth orbit\">LEO</a>\n",
      "</td>\n",
      "<td><a href=\"/wiki/Space_Development_Agency\" title=\"Space Development Agency\">SDA</a>\n",
      "</td></tr>\n",
      "<tr>\n",
      "<td colspan=\"5\">Launch part of Phase 2 US Space Force contract awarded in 2022.\n",
      "</td></tr>\n",
      "<tr>\n",
      "<td rowspan=\"2\">November 2024\n",
      "</td>\n",
      "<td><a href=\"/wiki/Falcon_9_Block_5\" title=\"Falcon 9 Block 5\">F9 B5</a>\n",
      "</td>\n",
      "<td>TBD\n",
      "</td>\n",
      "<td>425 Project SAR satellite flight 3<sup class=\"reference\" id=\"cite_ref-yonhap8124_437-0\"><a href=\"#cite_note-yonhap8124-437\">[429]</a></sup>\n",
      "</td>\n",
      "<td><a href=\"/wiki/Low_Earth_orbit\" title=\"Low Earth orbit\">LEO</a>?\n",
      "</td>\n",
      "<td><a href=\"/wiki/Republic_of_Korea_Armed_Forces\" title=\"Republic of Korea Armed Forces\">Republic of Korea Armed Forces</a>\n",
      "</td></tr>\n",
      "<tr>\n",
      "<td colspan=\"5\">A military satellite of South Korea with a mass of ~800 kg. Expected to be a part of Bandwagon-2.<sup class=\"reference\" id=\"cite_ref-438\"><a href=\"#cite_note-438\">[430]</a></sup>\n",
      "</td></tr>\n",
      "<tr>\n",
      "<td rowspan=\"2\">December 2024<sup class=\"reference\" id=\"cite_ref-DoD28222_416-3\"><a href=\"#cite_note-DoD28222-416\">[408]</a></sup>\n",
      "</td>\n",
      "<td><a href=\"/wiki/Falcon_9_Block_5\" title=\"Falcon 9 Block 5\">F9 B5</a>\n",
      "</td>\n",
      "<td><a href=\"/wiki/Vandenberg_Space_Force_Base\" title=\"Vandenberg Space Force Base\">Vandenberg</a>,<br/><a href=\"/wiki/Vandenberg_Space_Launch_Complex_4\" title=\"Vandenberg Space Launch Complex 4\">SLC-4E</a>\n",
      "</td>\n",
      "<td><a href=\"/wiki/Space_Development_Agency#Launches\" title=\"Space Development Agency\">SDA Tranche 1 Tracking layer T1TL-E</a><sup class=\"reference\" id=\"cite_ref-SSCA12_417-3\"><a href=\"#cite_note-SSCA12-417\">[409]</a></sup>\n",
      "</td>\n",
      "<td><a href=\"/wiki/Polar_orbit\" title=\"Polar orbit\">Polar</a> <a href=\"/wiki/Low_Earth_orbit\" title=\"Low Earth orbit\">LEO</a>\n",
      "</td>\n",
      "<td><a href=\"/wiki/Space_Development_Agency\" title=\"Space Development Agency\">SDA</a>\n",
      "</td></tr>\n",
      "<tr>\n",
      "<td colspan=\"5\">Launch part of Phase 2 US Space Force contract awarded in 2022.\n",
      "</td></tr>\n",
      "<tr>\n",
      "<td rowspan=\"2\">Q4 2024<sup class=\"reference\" id=\"cite_ref-DoD28222_416-4\"><a href=\"#cite_note-DoD28222-416\">[408]</a></sup>\n",
      "</td>\n",
      "<td><a href=\"/wiki/Falcon_9_Block_5\" title=\"Falcon 9 Block 5\">F9 B5</a>\n",
      "</td>\n",
      "<td><a href=\"/wiki/Vandenberg_Space_Force_Base\" title=\"Vandenberg Space Force Base\">Vandenberg</a>,<br/><a href=\"/wiki/Vandenberg_Space_Launch_Complex_4\" title=\"Vandenberg Space Launch Complex 4\">SLC-4E</a>\n",
      "</td>\n",
      "<td><a href=\"/wiki/Space_Development_Agency#Launches\" title=\"Space Development Agency\">SDA Tranche 1 Transport layer T1TR-C</a><sup class=\"reference\" id=\"cite_ref-SSCA12_417-4\"><a href=\"#cite_note-SSCA12-417\">[409]</a></sup>\n",
      "</td>\n",
      "<td><a href=\"/wiki/Polar_orbit\" title=\"Polar orbit\">Polar</a> <a href=\"/wiki/Low_Earth_orbit\" title=\"Low Earth orbit\">LEO</a>\n",
      "</td>\n",
      "<td><a href=\"/wiki/Space_Development_Agency\" title=\"Space Development Agency\">SDA</a>\n",
      "</td></tr>\n",
      "<tr>\n",
      "<td colspan=\"5\">Launch part of Phase 2 US Space Force contract awarded in 2022.\n",
      "</td></tr>\n",
      "<tr>\n",
      "<td rowspan=\"2\">Q4 2024<sup class=\"reference\" id=\"cite_ref-sn-20240213_439-0\"><a href=\"#cite_note-sn-20240213-439\">[431]</a></sup>\n",
      "</td>\n",
      "<td><a href=\"/wiki/Falcon_9_Block_5\" title=\"Falcon 9 Block 5\">F9 B5</a>\n",
      "</td>\n",
      "<td><a href=\"/wiki/Kennedy_Space_Center\" title=\"Kennedy Space Center\">Kennedy</a>,<br/><a href=\"/wiki/Kennedy_Space_Center_Launch_Complex_39A\" title=\"Kennedy Space Center Launch Complex 39A\">LC-39A</a><sup class=\"reference\" id=\"cite_ref-440\"><a href=\"#cite_note-440\">[432]</a></sup>\n",
      "</td>\n",
      "<td><a href=\"/wiki/IM-2\" title=\"IM-2\">IM-2</a> <i><a class=\"mw-redirect\" href=\"/wiki/Nova-C\" title=\"Nova-C\">Nova-C</a></i> lunar lander<br/><a href=\"/wiki/SHERPA_(space_tug)\" title=\"SHERPA (space tug)\">Sherpa-ES</a>\n",
      "</td>\n",
      "<td><a href=\"/wiki/Trans-lunar_injection\" title=\"Trans-lunar injection\">TLI</a>\n",
      "</td>\n",
      "<td><a href=\"/wiki/NASA\" title=\"NASA\">NASA</a> (<a href=\"/wiki/Commercial_Lunar_Payload_Services\" title=\"Commercial Lunar Payload Services\">CLPS</a>)<br/><a href=\"/wiki/Intuitive_Machines\" title=\"Intuitive Machines\">Intuitive Machines</a><br/><a href=\"/wiki/Spaceflight,_Inc.\" title=\"Spaceflight, Inc.\">Spaceflight, Inc.</a>\n",
      "</td></tr>\n",
      "<tr>\n",
      "<td colspan=\"5\">Intuitive Machines is sending its second lander aboard a SpaceX Falcon 9, with a projected launch time frame in late 2024. In February 2024, Intuitive Machines has completed its first lander mission via SpaceX, which is also hosting payloads for other private companies seeking to make lunar landfall under NASA's Commercial Lunar Payload Services program. NASA's <a href=\"/wiki/PRIME-1\" title=\"PRIME-1\">PRIME-1</a> is expected to be included.<sup class=\"reference\" id=\"cite_ref-441\"><a href=\"#cite_note-441\">[433]</a></sup> The Sherpa-ES <i>Go Beyond</i> orbital transfer vehicle will deploy rideshare payloads to trans-lunar orbit, low-lunar orbit and beyond to GEO.<sup class=\"reference\" id=\"cite_ref-442\"><a href=\"#cite_note-442\">[434]</a></sup><sup class=\"reference\" id=\"cite_ref-443\"><a href=\"#cite_note-443\">[435]</a></sup><sup class=\"reference\" id=\"cite_ref-444\"><a href=\"#cite_note-444\">[436]</a></sup> NASA's <a href=\"/wiki/Lunar_Trailblazer\" title=\"Lunar Trailblazer\">Lunar Trailblazer</a> mission will fly as a secondary payload on this mission.<sup class=\"reference\" id=\"cite_ref-445\"><a href=\"#cite_note-445\">[437]</a></sup>\n",
      "</td></tr>\n",
      "<tr>\n",
      "<td rowspan=\"2\">Q4 2024<sup class=\"reference\" id=\"cite_ref-446\"><a href=\"#cite_note-446\">[438]</a></sup>\n",
      "</td>\n",
      "<td><a href=\"/wiki/Falcon_9_Block_5\" title=\"Falcon 9 Block 5\">F9 B5</a>\n",
      "</td>\n",
      "<td>TBA (FL)\n",
      "</td>\n",
      "<td><a href=\"/wiki/Koreasat\" title=\"Koreasat\">Koreasat</a> 6A<sup class=\"reference\" id=\"cite_ref-447\"><a href=\"#cite_note-447\">[439]</a></sup>\n",
      "</td>\n",
      "<td><a href=\"/wiki/Geostationary_transfer_orbit\" title=\"Geostationary transfer orbit\">GTO</a>\n",
      "</td>\n",
      "<td><a href=\"/wiki/KT_Corporation\" title=\"KT Corporation\">KT Sat</a>\n",
      "</td></tr>\n",
      "<tr>\n",
      "<td colspan=\"5\">South Korean communications satellite built on the <a href=\"/wiki/Spacebus\" title=\"Spacebus\">Spacebus-4000B2</a> platform. To be positioned at 116° East.<sup class=\"reference\" id=\"cite_ref-448\"><a href=\"#cite_note-448\">[440]</a></sup>\n",
      "</td></tr>\n",
      "<tr>\n",
      "<td rowspan=\"2\">H2 2024<sup class=\"reference\" id=\"cite_ref-nextSFupcoming_391-8\"><a href=\"#cite_note-nextSFupcoming-391\">[383]</a></sup><sup class=\"reference\" id=\"cite_ref-SFPR9321_449-0\"><a href=\"#cite_note-SFPR9321-449\">[441]</a></sup>\n",
      "</td>\n",
      "<td><a href=\"/wiki/Falcon_9_Block_5\" title=\"Falcon 9 Block 5\">F9 B5</a><sup class=\"reference\" id=\"cite_ref-ussf36config_450-0\"><a href=\"#cite_note-ussf36config-450\">[442]</a></sup>\n",
      "</td>\n",
      "<td>TBA (FL)<sup class=\"reference\" id=\"cite_ref-ussf36location_451-0\"><a href=\"#cite_note-ussf36location-451\">[443]</a></sup>\n",
      "</td>\n",
      "<td>USSF-36\n",
      "</td>\n",
      "<td class=\"skin-invert no table-no2\" data-sort-value=\"\" style=\"background: #DDF; color:black; vertical-align: middle; text-align: center;\"><abbr title=\"To be announced\">TBA</abbr>\n",
      "</td>\n",
      "<td><a href=\"/wiki/United_States_Space_Force\" title=\"United States Space Force\">USSF</a>\n",
      "</td></tr>\n",
      "<tr>\n",
      "<td colspan=\"5\">Launch part of Phase 2 US Space Force contract awarded in 2021.<sup class=\"reference\" id=\"cite_ref-defense.gov_452-0\"><a href=\"#cite_note-defense.gov-452\">[444]</a></sup>\n",
      "</td></tr>\n",
      "<tr>\n",
      "<td rowspan=\"2\">H2 2024<sup class=\"reference\" id=\"cite_ref-O3b_Nov23_453-0\"><a href=\"#cite_note-O3b_Nov23-453\">[445]</a></sup>\n",
      "</td>\n",
      "<td><a href=\"/wiki/Falcon_9_Block_5\" title=\"Falcon 9 Block 5\">F9 B5</a>\n",
      "</td>\n",
      "<td>TBA (FL)\n",
      "</td>\n",
      "<td><a href=\"/wiki/O3b_mPOWER\" title=\"O3b mPOWER\">O3b mPOWER</a> 7 &amp; 8\n",
      "</td>\n",
      "<td><a href=\"/wiki/Medium_Earth_orbit\" title=\"Medium Earth orbit\">MEO</a>\n",
      "</td>\n",
      "<td><a class=\"mw-redirect\" href=\"/wiki/SES_S.A.\" title=\"SES S.A.\">SES</a>\n",
      "</td></tr>\n",
      "<tr>\n",
      "<td colspan=\"5\">In August 2020, SES expanded the O3b mPOWER contract with two additional launches, raising the number of satellites from 7 to 11 satellites at nearly 2 tons each.<sup class=\"reference\" id=\"cite_ref-454\"><a href=\"#cite_note-454\">[446]</a></sup><sup class=\"reference\" id=\"cite_ref-businesswire.com_455-0\"><a href=\"#cite_note-businesswire.com-455\">[447]</a></sup> In October 2023 the mission was delayed to the second half of 2024 due to electrical issues discovered in the first four satellites of the constellation.<sup class=\"reference\" id=\"cite_ref-O3b_Nov23_453-1\"><a href=\"#cite_note-O3b_Nov23-453\">[445]</a></sup>\n",
      "</td></tr>\n",
      "<tr>\n",
      "<td rowspan=\"2\">H2 2024<sup class=\"reference\" id=\"cite_ref-shephard14224_402-1\"><a href=\"#cite_note-shephard14224-402\">[394]</a></sup>\n",
      "</td>\n",
      "<td><a href=\"/wiki/Falcon_9_Block_5\" title=\"Falcon 9 Block 5\">F9 B5</a> ♺<sup class=\"reference\" id=\"cite_ref-worldviewlegion_341-3\"><a href=\"#cite_note-worldviewlegion-341\">[333]</a></sup><sup class=\"reference\" id=\"cite_ref-WorldView-Legion_1,_...,_6_403-1\"><a href=\"#cite_note-WorldView-Legion_1,_...,_6-403\">[395]</a></sup>\n",
      "</td>\n",
      "<td>TBA (FL)<sup class=\"reference\" id=\"cite_ref-nextSFupcoming_391-9\"><a href=\"#cite_note-nextSFupcoming-391\">[383]</a></sup>\n",
      "</td>\n",
      "<td><a href=\"/wiki/DigitalGlobe#WorldView_Legion\" title=\"DigitalGlobe\">WorldView Legion 5 &amp; 6</a> Mission 3 (2 sats)<sup class=\"reference\" id=\"cite_ref-spacenews.com_404-1\"><a href=\"#cite_note-spacenews.com-404\">[396]</a></sup><sup class=\"reference\" id=\"cite_ref-SN240423_405-1\"><a href=\"#cite_note-SN240423-405\">[397]</a></sup><sup class=\"reference\" id=\"cite_ref-worldviewLegion10QSept22_406-1\"><a href=\"#cite_note-worldviewLegion10QSept22-406\">[398]</a></sup>\n",
      "</td>\n",
      "<td><a href=\"/wiki/Sun-synchronous_orbit\" title=\"Sun-synchronous orbit\">SSO</a>\n",
      "</td>\n",
      "<td><a href=\"/wiki/Maxar_Technologies\" title=\"Maxar Technologies\">Maxar Technologies</a>\n",
      "</td></tr>\n",
      "<tr>\n",
      "<td colspan=\"5\"><a href=\"/wiki/Maxar_Technologies\" title=\"Maxar Technologies\">Maxar Technologies</a> built satellites.\n",
      "</td></tr>\n",
      "<tr>\n",
      "<td rowspan=\"2\">H2 2024<sup class=\"reference\" id=\"cite_ref-nextSFupcoming_391-10\"><a href=\"#cite_note-nextSFupcoming-391\">[383]</a></sup><sup class=\"reference\" id=\"cite_ref-SFPR9321_449-1\"><a href=\"#cite_note-SFPR9321-449\">[441]</a></sup>\n",
      "</td>\n",
      "<td><a href=\"/wiki/Falcon_9_Block_5\" title=\"Falcon 9 Block 5\">F9 B5</a><sup class=\"reference\" id=\"cite_ref-ussf36config_450-1\"><a href=\"#cite_note-ussf36config-450\">[442]</a></sup>\n",
      "</td>\n",
      "<td>TBA (FL)\n",
      "</td>\n",
      "<td>NROL-69\n",
      "</td>\n",
      "<td class=\"skin-invert no table-no2\" data-sort-value=\"\" style=\"background: #DDF; color:black; vertical-align: middle; text-align: center;\"><abbr title=\"To be announced\">TBA</abbr>\n",
      "</td>\n",
      "<td><a href=\"/wiki/United_States_Space_Force\" title=\"United States Space Force\">USSF</a>\n",
      "</td></tr>\n",
      "<tr>\n",
      "<td colspan=\"5\">Launch part of Phase 2 US Space Force contract awarded in 2021.<sup class=\"reference\" id=\"cite_ref-defense.gov_452-1\"><a href=\"#cite_note-defense.gov-452\">[444]</a></sup>\n",
      "</td></tr>\n",
      "<tr>\n",
      "<td rowspan=\"2\">Late 2024<sup class=\"reference\" id=\"cite_ref-456\"><a href=\"#cite_note-456\">[448]</a></sup>\n",
      "</td>\n",
      "<td><a href=\"/wiki/Falcon_9_Block_5\" title=\"Falcon 9 Block 5\">F9 B5</a>\n",
      "</td>\n",
      "<td>TBA (FL)\n",
      "</td>\n",
      "<td><a href=\"/wiki/PT_Pasifik_Satelit_Nusantara#Nusantara_Lima\" title=\"PT Pasifik Satelit Nusantara\">Nusantara Lima</a><sup class=\"reference\" id=\"cite_ref-457\"><a href=\"#cite_note-457\">[449]</a></sup>\n",
      "</td>\n",
      "<td><a href=\"/wiki/Geostationary_transfer_orbit\" title=\"Geostationary transfer orbit\">GTO</a>?\n",
      "</td>\n",
      "<td><a href=\"/wiki/PT_Pasifik_Satelit_Nusantara\" title=\"PT Pasifik Satelit Nusantara\">PT Pasifik Satelit Nusantara</a>\n",
      "</td></tr>\n",
      "<tr>\n",
      "<td colspan=\"5\">A hot backup system for <a href=\"/wiki/PT_Pasifik_Satelit_Nusantara#SATRIA-1\" title=\"PT Pasifik Satelit Nusantara\">SATRIA-1</a>.<sup class=\"reference\" id=\"cite_ref-458\"><a href=\"#cite_note-458\">[450]</a></sup>\n",
      "</td></tr>\n",
      "<tr>\n",
      "<td rowspan=\"2\">2024<sup class=\"reference\" id=\"cite_ref-nextSFupcoming_391-11\"><a href=\"#cite_note-nextSFupcoming-391\">[383]</a></sup>\n",
      "</td>\n",
      "<td><a href=\"/wiki/Falcon_9_Block_5\" title=\"Falcon 9 Block 5\">F9 B5</a> ♺\n",
      "</td>\n",
      "<td>TBA (FL)\n",
      "</td>\n",
      "<td><a href=\"/wiki/Doge-1\" title=\"Doge-1\">DOGE-1</a> <span style=\"color:darkgreen\"><abbr title=\"It is not yet clear whether this will fly as a primary payload, a secondary payload or on a dedicated rideshare mission\">Possible rideshare</abbr></span>\n",
      "</td>\n",
      "<td><a href=\"/wiki/Trans-lunar_injection\" title=\"Trans-lunar injection\">TLI</a>\n",
      "</td>\n",
      "<td>Geometric Energy\n",
      "</td></tr>\n",
      "<tr>\n",
      "<td colspan=\"5\">Originally expected to be a secondary rideshare payload on <a href=\"/wiki/IM-1\" title=\"IM-1\">IM-1</a> mission but the 40 kg was later postponed to a later date due to incomplete radio and launch requirements.&gt;<sup class=\"reference\" id=\"cite_ref-459\"><a href=\"#cite_note-459\">[451]</a></sup><sup class=\"noprint Inline-Template noprint Template-Fact\" style=\"white-space:nowrap;\">[<i><a href=\"/wiki/Wikipedia:No_original_research#Primary,_secondary_and_tertiary_sources\" title=\"Wikipedia:No original research\"><span title=\"This claim needs references to reliable secondary sources. (February 2024)\">non-primary source needed</span></a></i>]</sup>\n",
      "</td></tr>\n",
      "<tr>\n",
      "<td rowspan=\"2\">2024<sup class=\"reference\" id=\"cite_ref-ispr25122_460-0\"><a href=\"#cite_note-ispr25122-460\">[452]</a></sup>\n",
      "</td>\n",
      "<td><a href=\"/wiki/Falcon_9_Block_5\" title=\"Falcon 9 Block 5\">F9 B5</a>\n",
      "</td>\n",
      "<td>TBD\n",
      "</td>\n",
      "<td><a href=\"/wiki/Ispace_(Japanese_company)\" title=\"Ispace (Japanese company)\">ispace</a> 2nd lunar lander<sup class=\"reference\" id=\"cite_ref-461\"><a href=\"#cite_note-461\">[453]</a></sup>\n",
      "</td>\n",
      "<td><a class=\"mw-redirect\" href=\"/wiki/Trans_Lunar_Injection\" title=\"Trans Lunar Injection\">TLI</a>\n",
      "</td>\n",
      "<td><a href=\"/wiki/Ispace_(Japanese_company)\" title=\"Ispace (Japanese company)\">ispace</a>\n",
      "</td></tr>\n",
      "<tr>\n",
      "<td colspan=\"5\">Second lunar lander built by Japanese company <a href=\"/wiki/Ispace_(Japanese_company)\" title=\"Ispace (Japanese company)\">ispace</a>.\n",
      "</td></tr>\n",
      "<tr>\n",
      "<td rowspan=\"2\">2024<sup class=\"reference\" id=\"cite_ref-462\"><a href=\"#cite_note-462\">[454]</a></sup>\n",
      "</td>\n",
      "<td><a href=\"/wiki/Falcon_9_Block_5\" title=\"Falcon 9 Block 5\">F9 B5</a>\n",
      "</td>\n",
      "<td>TBA (FL)\n",
      "</td>\n",
      "<td><a href=\"/wiki/Thuraya#Satellites\" title=\"Thuraya\">Thuraya 4-NGS</a>\n",
      "</td>\n",
      "<td><a href=\"/wiki/Geostationary_transfer_orbit\" title=\"Geostationary transfer orbit\">GTO</a>\n",
      "</td>\n",
      "<td><a href=\"/wiki/Thuraya\" title=\"Thuraya\">Thuraya</a>\n",
      "</td></tr>\n",
      "<tr>\n",
      "<td colspan=\"5\">Planned replacement for Thuraya 2.<sup class=\"reference\" id=\"cite_ref-463\"><a href=\"#cite_note-463\">[455]</a></sup>\n",
      "</td></tr>\n",
      "<tr>\n",
      "<td rowspan=\"2\">2024\n",
      "</td>\n",
      "<td><a href=\"/wiki/Falcon_9_Block_5\" title=\"Falcon 9 Block 5\">F9 B5</a>\n",
      "</td>\n",
      "<td>TBA (FL)\n",
      "</td>\n",
      "<td><a class=\"mw-redirect\" href=\"/wiki/Cygnus_NG-22\" title=\"Cygnus NG-22\">CRS NG-22</a><sup class=\"reference\" id=\"cite_ref-NG_RepAnt_283-1\"><a href=\"#cite_note-NG_RepAnt-283\">[275]</a></sup>\n",
      "</td>\n",
      "<td><a href=\"/wiki/Low_Earth_orbit\" title=\"Low Earth orbit\">LEO</a> (<a class=\"mw-redirect\" href=\"/wiki/ISS\" title=\"ISS\">ISS</a>)\n",
      "</td>\n",
      "<td><a href=\"/wiki/Northrop_Grumman\" title=\"Northrop Grumman\">Northrop Grumman</a> (<a href=\"/wiki/Commercial_Resupply_Services\" title=\"Commercial Resupply Services\">CRS</a>)\n",
      "</td></tr>\n",
      "<tr>\n",
      "<td colspan=\"5\">Third of three launches Northrop Grumman acquired from SpaceX while a replacement engine is developed for its Antares rocket.\n",
      "</td></tr>\n",
      "<tr>\n",
      "<td rowspan=\"2\">2024\n",
      "</td>\n",
      "<td><a href=\"/wiki/Falcon_9_Block_5\" title=\"Falcon 9 Block 5\">F9 B5</a>\n",
      "</td>\n",
      "<td>TBD\n",
      "</td>\n",
      "<td>Reentry demonstration capsule <span style=\"color:darkgreen\"><abbr title=\"It is not yet clear whether this will fly as a primary payload, a secondary payload or on a dedicated rideshare mission\">Possible rideshare</abbr></span>\n",
      "</td>\n",
      "<td><a href=\"/wiki/Low_Earth_orbit\" title=\"Low Earth orbit\">LEO</a>\n",
      "</td>\n",
      "<td><a href=\"/wiki/The_Exploration_Company\" title=\"The Exploration Company\">The Exploration Company</a>\n",
      "</td></tr>\n",
      "<tr>\n",
      "<td colspan=\"5\">1600 kg 2.5 metre diameter reduced scale test of a reentry capsule, the full-scale version Nyx (4 metre diameter 8000 kg) is planned to deliver payloads to the ISS and return them back to Earth.<sup class=\"reference\" id=\"cite_ref-464\"><a href=\"#cite_note-464\">[456]</a></sup>\n",
      "</td></tr>\n",
      "<tr>\n",
      "<td rowspan=\"2\">2024?\n",
      "</td>\n",
      "<td><a href=\"/wiki/Falcon_9_Block_5\" title=\"Falcon 9 Block 5\">F9 B5</a>\n",
      "</td>\n",
      "<td>TBA (FL)\n",
      "</td>\n",
      "<td>USSF-31<sup class=\"reference\" id=\"cite_ref-SSCA12_417-5\"><a href=\"#cite_note-SSCA12-417\">[409]</a></sup>\n",
      "</td>\n",
      "<td class=\"skin-invert no table-no2\" data-sort-value=\"\" style=\"background: #DDF; color:black; vertical-align: middle; text-align: center;\"><abbr title=\"To be announced\">TBA</abbr>\n",
      "</td>\n",
      "<td><a href=\"/wiki/United_States_Space_Force\" title=\"United States Space Force\">USSF</a>\n",
      "</td></tr>\n",
      "<tr>\n",
      "<td colspan=\"5\">Classified mission, part of Phase 2 US Space Force contract awarded in 2022.\n",
      "</td></tr></tbody></table>\n"
     ]
    }
   ],
   "source": [
    "# Let's print the third table and check its content\n",
    "first_launch_table = html_tables[2]\n",
    "print(first_launch_table)"
   ]
  },
  {
   "cell_type": "markdown",
   "metadata": {},
   "source": [
    "You should able to see the columns names embedded in the table header elements `<th>` as follows:\n"
   ]
  },
  {
   "cell_type": "markdown",
   "metadata": {},
   "source": [
    "```\n",
    "<tr>\n",
    "<th scope=\"col\">Flight No.\n",
    "</th>\n",
    "<th scope=\"col\">Date and<br/>time (<a href=\"/wiki/Coordinated_Universal_Time\" title=\"Coordinated Universal Time\">UTC</a>)\n",
    "</th>\n",
    "<th scope=\"col\"><a href=\"/wiki/List_of_Falcon_9_first-stage_boosters\" title=\"List of Falcon 9 first-stage boosters\">Version,<br/>Booster</a> <sup class=\"reference\" id=\"cite_ref-booster_11-0\"><a href=\"#cite_note-booster-11\">[b]</a></sup>\n",
    "</th>\n",
    "<th scope=\"col\">Launch site\n",
    "</th>\n",
    "<th scope=\"col\">Payload<sup class=\"reference\" id=\"cite_ref-Dragon_12-0\"><a href=\"#cite_note-Dragon-12\">[c]</a></sup>\n",
    "</th>\n",
    "<th scope=\"col\">Payload mass\n",
    "</th>\n",
    "<th scope=\"col\">Orbit\n",
    "</th>\n",
    "<th scope=\"col\">Customer\n",
    "</th>\n",
    "<th scope=\"col\">Launch<br/>outcome\n",
    "</th>\n",
    "<th scope=\"col\"><a href=\"/wiki/Falcon_9_first-stage_landing_tests\" title=\"Falcon 9 first-stage landing tests\">Booster<br/>landing</a>\n",
    "</th></tr>\n",
    "```\n"
   ]
  },
  {
   "cell_type": "markdown",
   "metadata": {},
   "source": [
    "Next, we just need to iterate through the `<th>` elements and apply the provided `extract_column_from_header()` to extract column name one by one\n"
   ]
  },
  {
   "cell_type": "code",
   "execution_count": 10,
   "metadata": {
    "tags": []
   },
   "outputs": [
    {
     "name": "stdout",
     "output_type": "stream",
     "text": [
      "Extracted column names:\n",
      "1. Flight No.\n",
      "2. Date and time ( )\n",
      "3. Launch site\n",
      "4. Payload\n",
      "5. Payload mass\n",
      "6. Orbit\n",
      "7. Customer\n",
      "8. Launch outcome\n",
      "9. FH 5\n",
      "10. FH 6\n",
      "11. FH 7\n",
      "12. FH 8\n",
      "13. FH 9\n",
      "\n",
      "Total number of columns: 13\n"
     ]
    }
   ],
   "source": [
    "column_names = []\n",
    "\n",
    "# Assuming the first table (index 0) is the one we want\n",
    "first_launch_table = html_tables[0]\n",
    "\n",
    "# Find all 'th' elements in the table\n",
    "th_elements = first_launch_table.find_all('th')\n",
    "\n",
    "# Iterate through each th element\n",
    "for th in th_elements:\n",
    "    name = extract_column_from_header(th)\n",
    "    if name is not None and len(name) > 0:\n",
    "        column_names.append(name)\n",
    "\n",
    "# Print the extracted column names\n",
    "print(\"Extracted column names:\")\n",
    "for i, name in enumerate(column_names):\n",
    "    print(f\"{i+1}. {name}\")\n",
    "\n",
    "print(f\"\\nTotal number of columns: {len(column_names)}\")"
   ]
  },
  {
   "cell_type": "markdown",
   "metadata": {},
   "source": [
    "Check the extracted column names\n"
   ]
  },
  {
   "cell_type": "code",
   "execution_count": 11,
   "metadata": {
    "tags": []
   },
   "outputs": [
    {
     "name": "stdout",
     "output_type": "stream",
     "text": [
      "['Flight No.', 'Date and time ( )', 'Launch site', 'Payload', 'Payload mass', 'Orbit', 'Customer', 'Launch outcome', 'FH 5', 'FH 6', 'FH 7', 'FH 8', 'FH 9']\n"
     ]
    }
   ],
   "source": [
    "print(column_names)"
   ]
  },
  {
   "cell_type": "markdown",
   "metadata": {},
   "source": [
    "## TASK 3: Create a data frame by parsing the launch HTML tables\n"
   ]
  },
  {
   "cell_type": "markdown",
   "metadata": {},
   "source": [
    "We will create an empty dictionary with keys from the extracted column names in the previous task. Later, this dictionary will be converted into a Pandas dataframe\n"
   ]
  },
  {
   "cell_type": "code",
   "execution_count": 15,
   "metadata": {
    "tags": []
   },
   "outputs": [],
   "source": [
    "launch_dict= dict.fromkeys(column_names)\n",
    "\n",
    "# Remove an irrelvant column\n",
    "del launch_dict['Date and time ( )']\n",
    "\n",
    "# Let's initial the launch_dict with each value to be an empty list\n",
    "launch_dict['Flight No.'] = []\n",
    "launch_dict['Launch site'] = []\n",
    "launch_dict['Payload'] = []\n",
    "launch_dict['Payload mass'] = []\n",
    "launch_dict['Orbit'] = []\n",
    "launch_dict['Customer'] = []\n",
    "launch_dict['Launch outcome'] = []\n",
    "# Added some new columns\n",
    "launch_dict['Version Booster']=[]\n",
    "launch_dict['Booster landing']=[]\n",
    "launch_dict['Date']=[]\n",
    "launch_dict['Time']=[]"
   ]
  },
  {
   "cell_type": "markdown",
   "metadata": {},
   "source": [
    "Next, we just need to fill up the `launch_dict` with launch records extracted from table rows.\n"
   ]
  },
  {
   "cell_type": "markdown",
   "metadata": {},
   "source": [
    "Usually, HTML tables in Wiki pages are likely to contain unexpected annotations and other types of noises, such as reference links `B0004.1[8]`, missing values `N/A [e]`, inconsistent formatting, etc.\n"
   ]
  },
  {
   "cell_type": "markdown",
   "metadata": {},
   "source": [
    "To simplify the parsing process, we have provided an incomplete code snippet below to help you to fill up the `launch_dict`. Please complete the following code snippet with TODOs or you can choose to write your own logic to parse all launch tables:\n"
   ]
  },
  {
   "cell_type": "code",
   "execution_count": 17,
   "metadata": {
    "tags": []
   },
   "outputs": [
    {
     "name": "stdout",
     "output_type": "stream",
     "text": [
      "Number of launches extracted: 164\n"
     ]
    }
   ],
   "source": [
    "extracted_row = 0\n",
    "#Extract each table \n",
    "for table_number,table in enumerate(soup.find_all('table',\"wikitable plainrowheaders collapsible\")):\n",
    "   # get table row \n",
    "    for rows in table.find_all(\"tr\"):\n",
    "        #check to see if first table heading is as number corresponding to launch a number \n",
    "        if rows.th:\n",
    "            if rows.th.string:\n",
    "                flight_number=rows.th.string.strip()\n",
    "                flag=flight_number.isdigit()\n",
    "        else:\n",
    "            flag=False\n",
    "        #get table element \n",
    "        row=rows.find_all('td')\n",
    "        #if it is number save cells in a dictonary \n",
    "        if flag:\n",
    "            extracted_row += 1\n",
    "            # Flight Number value\n",
    "            launch_dict['Flight No.'].append(flight_number)\n",
    "            \n",
    "            datatimelist=date_time(row[0])\n",
    "            \n",
    "            # Date value\n",
    "            launch_dict['Date'].append(datatimelist[0].strip(',') if len(datatimelist) > 0 else '')\n",
    "            \n",
    "            # Time value\n",
    "            launch_dict['Time'].append(datatimelist[1] if len(datatimelist) > 1 else '')\n",
    "              \n",
    "            # Booster version\n",
    "            bv=booster_version(row[1])\n",
    "            if not(bv):\n",
    "                bv = row[1].a.string if row[1].a else ''\n",
    "            launch_dict['Version Booster'].append(bv)\n",
    "            \n",
    "            # Launch Site\n",
    "            launch_dict['Launch site'].append(row[2].a.string if row[2].a else '')\n",
    "            \n",
    "            # Payload\n",
    "            launch_dict['Payload'].append(row[3].a.string if row[3].a else '')\n",
    "            \n",
    "            # Payload Mass\n",
    "            launch_dict['Payload mass'].append(get_mass(row[4]))\n",
    "            \n",
    "            # Orbit\n",
    "            launch_dict['Orbit'].append(row[5].a.string if row[5].a else '')\n",
    "            \n",
    "            # Customer\n",
    "            launch_dict['Customer'].append(row[6].a.string if row[6].a else '')\n",
    "            \n",
    "            # Launch outcome\n",
    "            launch_dict['Launch outcome'].append(list(row[7].strings)[0] if row[7].strings else '')\n",
    "            \n",
    "            # Booster landing\n",
    "            launch_dict['Booster landing'].append(landing_status(row[8]))\n",
    "\n",
    "print(f\"Number of launches extracted: {extracted_row}\")"
   ]
  },
  {
   "cell_type": "markdown",
   "metadata": {},
   "source": [
    "After you have fill in the parsed launch record values into `launch_dict`, you can create a dataframe from it.\n"
   ]
  },
  {
   "cell_type": "code",
   "execution_count": 18,
   "metadata": {
    "tags": []
   },
   "outputs": [
    {
     "name": "stderr",
     "output_type": "stream",
     "text": [
      "/home/jupyterlab/conda/envs/python/lib/python3.7/site-packages/ipykernel_launcher.py:1: DeprecationWarning: The default dtype for empty Series will be 'object' instead of 'float64' in a future version. Specify a dtype explicitly to silence this warning.\n",
      "  \"\"\"Entry point for launching an IPython kernel.\n"
     ]
    }
   ],
   "source": [
    "df= pd.DataFrame({ key:pd.Series(value) for key, value in launch_dict.items() })"
   ]
  },
  {
   "cell_type": "markdown",
   "metadata": {},
   "source": [
    "We can now export it to a <b>CSV</b> for the next section, but to make the answers consistent and in case you have difficulties finishing this lab. \n",
    "\n",
    "Following labs will be using a provided dataset to make each lab independent. \n"
   ]
  },
  {
   "cell_type": "markdown",
   "metadata": {},
   "source": [
    "<code>df.to_csv('spacex_web_scraped.csv', index=False)</code>\n"
   ]
  },
  {
   "cell_type": "markdown",
   "metadata": {},
   "source": [
    "## Authors\n"
   ]
  },
  {
   "cell_type": "markdown",
   "metadata": {},
   "source": [
    "<a href=\"https://www.linkedin.com/in/yan-luo-96288783/\">Yan Luo</a>\n"
   ]
  },
  {
   "cell_type": "markdown",
   "metadata": {},
   "source": [
    "<a href=\"https://www.linkedin.com/in/nayefaboutayoun/\">Nayef Abou Tayoun</a>\n"
   ]
  },
  {
   "cell_type": "markdown",
   "metadata": {},
   "source": [
    "<!--\n",
    "## Change Log\n",
    "-->\n"
   ]
  },
  {
   "cell_type": "markdown",
   "metadata": {},
   "source": [
    "<!--\n",
    "| Date (YYYY-MM-DD) | Version | Changed By | Change Description      |\n",
    "| ----------------- | ------- | ---------- | ----------------------- |\n",
    "| 2021-06-09        | 1.0     | Yan Luo    | Tasks updates           |\n",
    "| 2020-11-10        | 1.0     | Nayef      | Created the initial version |\n",
    "-->\n"
   ]
  },
  {
   "cell_type": "markdown",
   "metadata": {},
   "source": [
    "Copyright © 2021 IBM Corporation. All rights reserved.\n"
   ]
  }
 ],
 "metadata": {
  "kernelspec": {
   "display_name": "Python",
   "language": "python",
   "name": "conda-env-python-py"
  },
  "language_info": {
   "codemirror_mode": {
    "name": "ipython",
    "version": 3
   },
   "file_extension": ".py",
   "mimetype": "text/x-python",
   "name": "python",
   "nbconvert_exporter": "python",
   "pygments_lexer": "ipython3",
   "version": "3.7.12"
  },
  "prev_pub_hash": "64f1b0aac408997185c47caba18730e0028b75e7934a0e5bf0ae73c5cb7ba677"
 },
 "nbformat": 4,
 "nbformat_minor": 4
}
